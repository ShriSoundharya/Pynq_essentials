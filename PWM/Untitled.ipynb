{
 "cells": [
  {
   "cell_type": "code",
   "execution_count": 4,
   "id": "f999e234",
   "metadata": {},
   "outputs": [],
   "source": [
    "def PID(Kp, Ki, Kd, MV_bar=0):\n",
    "    # initialize stored data\n",
    "    e_prev = 0\n",
    "    t_prev = -100\n",
    "    I = 0\n",
    "    \n",
    "    # initial control\n",
    "    MV = MV_bar\n",
    "    \n",
    "    while True:\n",
    "        # yield MV, wait for new t, PV, SP\n",
    "        t, PV, SP = yield MV\n",
    "        \n",
    "        # PID calculations\n",
    "        e = SP - PV\n",
    "        \n",
    "        P = Kp*e\n",
    "        I = I + Ki*e*(t - t_prev)\n",
    "        D = Kd*(e - e_prev)/(t - t_prev)\n",
    "        \n",
    "        MV = MV_bar + P + I + D\n",
    "        \n",
    "        # update stored data for next iteration\n",
    "        e_prev = e\n",
    "        t_prev = t"
   ]
  },
  {
   "cell_type": "code",
   "execution_count": null,
   "id": "59b2a185",
   "metadata": {},
   "outputs": [
    {
     "data": {
      "image/png": "[encoded data removed]",
      "text/plain": [
       "<Figure size 640x480 with 4 Axes>"
      ]
     },
     "metadata": {},
     "output_type": "display_data"
    }
   ],
   "source": [
    "%matplotlib inline\n",
    "from tclab import clock, setup, Historian, Plotter\n",
    "\n",
    "TCLab = setup(connected=False, speedup=10)\n",
    "\n",
    "controller = PID(2, 0.1, 2)        # create pid control\n",
    "controller.send(None)              # initialize\n",
    "\n",
    "tfinal = 800\n",
    "\n",
    "with TCLab() as lab:\n",
    "    h = Historian([('SP', lambda: SP), ('T1', lambda: lab.T1), ('MV', lambda: MV), ('Q1', lab.Q1)])\n",
    "    p = Plotter(h, tfinal)\n",
    "    T1 = lab.T1\n",
    "    for t in clock(tfinal, 2):\n",
    "        SP = T1 if t < 50 else 1000          # get setpoint\n",
    "        PV = lab.T1                         # get measurement\n",
    "        MV = controller.send([t, PV, SP])   # compute manipulated variable\n",
    "        lab.U1 = MV                         # apply \n",
    "        p.update(t)                         # update information display"
   ]
  },
  {
   "cell_type": "code",
   "execution_count": null,
   "id": "791e0522",
   "metadata": {},
   "outputs": [],
   "source": []
  }
 ],
 "metadata": {
  "kernelspec": {
   "display_name": "Python 3",
   "language": "python",
   "name": "python3"
  },
  "language_info": {
   "codemirror_mode": {
    "name": "ipython",
    "version": 3
   },
   "file_extension": ".py",
   "mimetype": "text/x-python",
   "name": "python",
   "nbconvert_exporter": "python",
   "pygments_lexer": "ipython3",
   "version": "3.8.2"
  }
 },
 "nbformat": 4,
 "nbformat_minor": 5
}
